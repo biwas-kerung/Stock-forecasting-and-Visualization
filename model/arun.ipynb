{
 "cells": [
  {
   "cell_type": "code",
   "execution_count": 111,
   "metadata": {},
   "outputs": [],
   "source": [
    "import numpy as np\n",
    "import pandas as pd\n",
    "import matplotlib.pyplot as plt\n",
    "import seaborn as sns\n",
    "%matplotlib inline"
   ]
  },
  {
   "cell_type": "code",
   "execution_count": 229,
   "metadata": {},
   "outputs": [],
   "source": [
    "df = pd.DataFrame(pd.read_csv(r\"C:\\Users\\Biwas Kerung\\Videos\\model\\datasets\\ARUN.csv\"))"
   ]
  },
  {
   "cell_type": "code",
   "execution_count": 230,
   "metadata": {},
   "outputs": [
    {
     "data": {
      "text/html": [
       "<div>\n",
       "<style scoped>\n",
       "    .dataframe tbody tr th:only-of-type {\n",
       "        vertical-align: middle;\n",
       "    }\n",
       "\n",
       "    .dataframe tbody tr th {\n",
       "        vertical-align: top;\n",
       "    }\n",
       "\n",
       "    .dataframe thead th {\n",
       "        text-align: right;\n",
       "    }\n",
       "</style>\n",
       "<table border=\"1\" class=\"dataframe\">\n",
       "  <thead>\n",
       "    <tr style=\"text-align: right;\">\n",
       "      <th></th>\n",
       "      <th>S.no</th>\n",
       "      <th>Symbol</th>\n",
       "      <th>Date</th>\n",
       "      <th>Open</th>\n",
       "      <th>High</th>\n",
       "      <th>Low</th>\n",
       "      <th>Close</th>\n",
       "      <th>Vol</th>\n",
       "    </tr>\n",
       "  </thead>\n",
       "  <tbody>\n",
       "    <tr>\n",
       "      <th>0</th>\n",
       "      <td>26</td>\n",
       "      <td>ARUN</td>\n",
       "      <td>2012-01-01.csv</td>\n",
       "      <td>45.0</td>\n",
       "      <td>44.0</td>\n",
       "      <td>43.0</td>\n",
       "      <td>43.0</td>\n",
       "      <td>660</td>\n",
       "    </tr>\n",
       "    <tr>\n",
       "      <th>1</th>\n",
       "      <td>20</td>\n",
       "      <td>ARUN</td>\n",
       "      <td>2012-01-02.csv</td>\n",
       "      <td>43.0</td>\n",
       "      <td>42.0</td>\n",
       "      <td>41.0</td>\n",
       "      <td>42.0</td>\n",
       "      <td>2,300</td>\n",
       "    </tr>\n",
       "    <tr>\n",
       "      <th>2</th>\n",
       "      <td>25</td>\n",
       "      <td>ARUN</td>\n",
       "      <td>2012-01-03.csv</td>\n",
       "      <td>42.0</td>\n",
       "      <td>43.0</td>\n",
       "      <td>43.0</td>\n",
       "      <td>43.0</td>\n",
       "      <td>500</td>\n",
       "    </tr>\n",
       "    <tr>\n",
       "      <th>3</th>\n",
       "      <td>23</td>\n",
       "      <td>ARUN</td>\n",
       "      <td>2012-01-04.csv</td>\n",
       "      <td>43.0</td>\n",
       "      <td>44.0</td>\n",
       "      <td>44.0</td>\n",
       "      <td>44.0</td>\n",
       "      <td>440</td>\n",
       "    </tr>\n",
       "    <tr>\n",
       "      <th>4</th>\n",
       "      <td>15</td>\n",
       "      <td>ARUN</td>\n",
       "      <td>2012-01-05.csv</td>\n",
       "      <td>44.0</td>\n",
       "      <td>44.0</td>\n",
       "      <td>44.0</td>\n",
       "      <td>44.0</td>\n",
       "      <td>400</td>\n",
       "    </tr>\n",
       "  </tbody>\n",
       "</table>\n",
       "</div>"
      ],
      "text/plain": [
       "   S.no Symbol            Date  Open  High   Low  Close    Vol\n",
       "0    26   ARUN  2012-01-01.csv  45.0  44.0  43.0   43.0    660\n",
       "1    20   ARUN  2012-01-02.csv  43.0  42.0  41.0   42.0  2,300\n",
       "2    25   ARUN  2012-01-03.csv  42.0  43.0  43.0   43.0    500\n",
       "3    23   ARUN  2012-01-04.csv  43.0  44.0  44.0   44.0    440\n",
       "4    15   ARUN  2012-01-05.csv  44.0  44.0  44.0   44.0    400"
      ]
     },
     "execution_count": 230,
     "metadata": {},
     "output_type": "execute_result"
    }
   ],
   "source": [
    "df.head()"
   ]
  },
  {
   "cell_type": "code",
   "execution_count": 231,
   "metadata": {},
   "outputs": [
    {
     "data": {
      "text/plain": [
       "(458, 8)"
      ]
     },
     "execution_count": 231,
     "metadata": {},
     "output_type": "execute_result"
    }
   ],
   "source": [
    "df.shape"
   ]
  },
  {
   "cell_type": "code",
   "execution_count": 232,
   "metadata": {},
   "outputs": [],
   "source": [
    "df.drop(['Symbol', 'S.no'], axis=1, inplace= True)"
   ]
  },
  {
   "cell_type": "code",
   "execution_count": 233,
   "metadata": {},
   "outputs": [
    {
     "name": "stderr",
     "output_type": "stream",
     "text": [
      "<ipython-input-233-13f5fcca5b64>:1: FutureWarning: The default value of regex will change from True to False in a future version.\n",
      "  df['Date'] = df['Date'].str.replace('.csv','')\n"
     ]
    }
   ],
   "source": [
    "df['Date'] = df['Date'].str.replace('.csv','')\n",
    "# df['Date'] = pd.to_datetime(df['Date'])"
   ]
  },
  {
   "cell_type": "code",
   "execution_count": 234,
   "metadata": {},
   "outputs": [
    {
     "data": {
      "text/html": [
       "<div>\n",
       "<style scoped>\n",
       "    .dataframe tbody tr th:only-of-type {\n",
       "        vertical-align: middle;\n",
       "    }\n",
       "\n",
       "    .dataframe tbody tr th {\n",
       "        vertical-align: top;\n",
       "    }\n",
       "\n",
       "    .dataframe thead th {\n",
       "        text-align: right;\n",
       "    }\n",
       "</style>\n",
       "<table border=\"1\" class=\"dataframe\">\n",
       "  <thead>\n",
       "    <tr style=\"text-align: right;\">\n",
       "      <th></th>\n",
       "      <th>Date</th>\n",
       "      <th>Open</th>\n",
       "      <th>High</th>\n",
       "      <th>Low</th>\n",
       "      <th>Close</th>\n",
       "      <th>Vol</th>\n",
       "    </tr>\n",
       "  </thead>\n",
       "  <tbody>\n",
       "    <tr>\n",
       "      <th>0</th>\n",
       "      <td>2012-01-01</td>\n",
       "      <td>45.0</td>\n",
       "      <td>44.0</td>\n",
       "      <td>43.0</td>\n",
       "      <td>43.0</td>\n",
       "      <td>660</td>\n",
       "    </tr>\n",
       "    <tr>\n",
       "      <th>1</th>\n",
       "      <td>2012-01-02</td>\n",
       "      <td>43.0</td>\n",
       "      <td>42.0</td>\n",
       "      <td>41.0</td>\n",
       "      <td>42.0</td>\n",
       "      <td>2,300</td>\n",
       "    </tr>\n",
       "    <tr>\n",
       "      <th>2</th>\n",
       "      <td>2012-01-03</td>\n",
       "      <td>42.0</td>\n",
       "      <td>43.0</td>\n",
       "      <td>43.0</td>\n",
       "      <td>43.0</td>\n",
       "      <td>500</td>\n",
       "    </tr>\n",
       "    <tr>\n",
       "      <th>3</th>\n",
       "      <td>2012-01-04</td>\n",
       "      <td>43.0</td>\n",
       "      <td>44.0</td>\n",
       "      <td>44.0</td>\n",
       "      <td>44.0</td>\n",
       "      <td>440</td>\n",
       "    </tr>\n",
       "    <tr>\n",
       "      <th>4</th>\n",
       "      <td>2012-01-05</td>\n",
       "      <td>44.0</td>\n",
       "      <td>44.0</td>\n",
       "      <td>44.0</td>\n",
       "      <td>44.0</td>\n",
       "      <td>400</td>\n",
       "    </tr>\n",
       "  </tbody>\n",
       "</table>\n",
       "</div>"
      ],
      "text/plain": [
       "         Date  Open  High   Low  Close    Vol\n",
       "0  2012-01-01  45.0  44.0  43.0   43.0    660\n",
       "1  2012-01-02  43.0  42.0  41.0   42.0  2,300\n",
       "2  2012-01-03  42.0  43.0  43.0   43.0    500\n",
       "3  2012-01-04  43.0  44.0  44.0   44.0    440\n",
       "4  2012-01-05  44.0  44.0  44.0   44.0    400"
      ]
     },
     "execution_count": 234,
     "metadata": {},
     "output_type": "execute_result"
    }
   ],
   "source": [
    "df.head()"
   ]
  },
  {
   "cell_type": "code",
   "execution_count": 235,
   "metadata": {},
   "outputs": [
    {
     "name": "stdout",
     "output_type": "stream",
     "text": [
      "<class 'pandas.core.frame.DataFrame'>\n",
      "RangeIndex: 458 entries, 0 to 457\n",
      "Data columns (total 6 columns):\n",
      " #   Column  Non-Null Count  Dtype  \n",
      "---  ------  --------------  -----  \n",
      " 0   Date    458 non-null    object \n",
      " 1   Open    458 non-null    float64\n",
      " 2   High    458 non-null    float64\n",
      " 3   Low     458 non-null    float64\n",
      " 4   Close   458 non-null    float64\n",
      " 5   Vol     458 non-null    object \n",
      "dtypes: float64(4), object(2)\n",
      "memory usage: 21.6+ KB\n"
     ]
    }
   ],
   "source": [
    "df.info()"
   ]
  },
  {
   "cell_type": "code",
   "execution_count": 246,
   "metadata": {},
   "outputs": [],
   "source": [
    "df_permutated = df.sample(frac=1)\n",
    "\n",
    "train_size = 0.9541\n",
    "train_end = int(len(df_permutated)*train_size)\n",
    "\n",
    "train_pure = df_permutated[:train_end]\n",
    "train = df_permutated[:train_end]\n",
    "test = df_permutated[train_end:]"
   ]
  },
  {
   "cell_type": "code",
   "execution_count": 247,
   "metadata": {},
   "outputs": [
    {
     "data": {
      "text/plain": [
       "(436, 6)"
      ]
     },
     "execution_count": 247,
     "metadata": {},
     "output_type": "execute_result"
    }
   ],
   "source": [
    "train = pd.DataFrame(train)\n",
    "train.shape"
   ]
  },
  {
   "cell_type": "code",
   "execution_count": 248,
   "metadata": {},
   "outputs": [
    {
     "data": {
      "text/html": [
       "<div>\n",
       "<style scoped>\n",
       "    .dataframe tbody tr th:only-of-type {\n",
       "        vertical-align: middle;\n",
       "    }\n",
       "\n",
       "    .dataframe tbody tr th {\n",
       "        vertical-align: top;\n",
       "    }\n",
       "\n",
       "    .dataframe thead th {\n",
       "        text-align: right;\n",
       "    }\n",
       "</style>\n",
       "<table border=\"1\" class=\"dataframe\">\n",
       "  <thead>\n",
       "    <tr style=\"text-align: right;\">\n",
       "      <th></th>\n",
       "      <th>Date</th>\n",
       "      <th>Open</th>\n",
       "      <th>High</th>\n",
       "      <th>Low</th>\n",
       "      <th>Close</th>\n",
       "      <th>Vol</th>\n",
       "    </tr>\n",
       "  </thead>\n",
       "  <tbody>\n",
       "    <tr>\n",
       "      <th>45</th>\n",
       "      <td>2012-05-13</td>\n",
       "      <td>36.0</td>\n",
       "      <td>36.0</td>\n",
       "      <td>36.0</td>\n",
       "      <td>36.0</td>\n",
       "      <td>80</td>\n",
       "    </tr>\n",
       "    <tr>\n",
       "      <th>233</th>\n",
       "      <td>2017-02-08</td>\n",
       "      <td>167.0</td>\n",
       "      <td>170.0</td>\n",
       "      <td>162.0</td>\n",
       "      <td>167.0</td>\n",
       "      <td>670</td>\n",
       "    </tr>\n",
       "    <tr>\n",
       "      <th>447</th>\n",
       "      <td>2018-03-06</td>\n",
       "      <td>144.0</td>\n",
       "      <td>146.0</td>\n",
       "      <td>142.0</td>\n",
       "      <td>144.0</td>\n",
       "      <td>2,790</td>\n",
       "    </tr>\n",
       "    <tr>\n",
       "      <th>159</th>\n",
       "      <td>2015-12-16</td>\n",
       "      <td>87.0</td>\n",
       "      <td>86.0</td>\n",
       "      <td>86.0</td>\n",
       "      <td>86.0</td>\n",
       "      <td>240</td>\n",
       "    </tr>\n",
       "    <tr>\n",
       "      <th>313</th>\n",
       "      <td>2017-07-11</td>\n",
       "      <td>197.0</td>\n",
       "      <td>194.0</td>\n",
       "      <td>194.0</td>\n",
       "      <td>194.0</td>\n",
       "      <td>680</td>\n",
       "    </tr>\n",
       "  </tbody>\n",
       "</table>\n",
       "</div>"
      ],
      "text/plain": [
       "           Date   Open   High    Low  Close    Vol\n",
       "45   2012-05-13   36.0   36.0   36.0   36.0     80\n",
       "233  2017-02-08  167.0  170.0  162.0  167.0    670\n",
       "447  2018-03-06  144.0  146.0  142.0  144.0  2,790\n",
       "159  2015-12-16   87.0   86.0   86.0   86.0    240\n",
       "313  2017-07-11  197.0  194.0  194.0  194.0    680"
      ]
     },
     "execution_count": 248,
     "metadata": {},
     "output_type": "execute_result"
    }
   ],
   "source": [
    "train.head()"
   ]
  },
  {
   "cell_type": "code",
   "execution_count": 249,
   "metadata": {},
   "outputs": [],
   "source": [
    "train.drop([\"Vol\",\"Date\", \"High\", \"Low\", \"Close\"], axis = 1, inplace = True)"
   ]
  },
  {
   "cell_type": "code",
   "execution_count": 250,
   "metadata": {},
   "outputs": [
    {
     "data": {
      "text/plain": [
       "(436, 1)"
      ]
     },
     "execution_count": 250,
     "metadata": {},
     "output_type": "execute_result"
    }
   ],
   "source": [
    "train.shape"
   ]
  },
  {
   "cell_type": "code",
   "execution_count": 251,
   "metadata": {},
   "outputs": [],
   "source": [
    "train = train.values"
   ]
  },
  {
   "cell_type": "code",
   "execution_count": 252,
   "metadata": {},
   "outputs": [
    {
     "data": {
      "text/plain": [
       "numpy.ndarray"
      ]
     },
     "execution_count": 252,
     "metadata": {},
     "output_type": "execute_result"
    }
   ],
   "source": [
    "type(train)"
   ]
  },
  {
   "cell_type": "code",
   "execution_count": 253,
   "metadata": {},
   "outputs": [
    {
     "data": {
      "text/plain": [
       "array([[ 36.],\n",
       "       [167.],\n",
       "       [144.],\n",
       "       [ 87.],\n",
       "       [197.],\n",
       "       [214.],\n",
       "       [ 45.],\n",
       "       [ 97.],\n",
       "       [157.],\n",
       "       [ 43.],\n",
       "       [ 36.],\n",
       "       [ 25.],\n",
       "       [ 37.],\n",
       "       [202.],\n",
       "       [153.],\n",
       "       [164.],\n",
       "       [ 25.],\n",
       "       [167.],\n",
       "       [ 25.],\n",
       "       [ 35.],\n",
       "       [117.],\n",
       "       [154.],\n",
       "       [145.],\n",
       "       [154.],\n",
       "       [153.],\n",
       "       [174.],\n",
       "       [220.],\n",
       "       [ 34.],\n",
       "       [173.],\n",
       "       [181.],\n",
       "       [172.],\n",
       "       [ 27.],\n",
       "       [ 40.],\n",
       "       [217.],\n",
       "       [169.],\n",
       "       [209.],\n",
       "       [158.],\n",
       "       [ 34.],\n",
       "       [155.],\n",
       "       [215.],\n",
       "       [173.],\n",
       "       [ 35.],\n",
       "       [184.],\n",
       "       [ 36.],\n",
       "       [155.],\n",
       "       [190.],\n",
       "       [167.],\n",
       "       [160.],\n",
       "       [197.],\n",
       "       [167.],\n",
       "       [163.],\n",
       "       [186.],\n",
       "       [195.],\n",
       "       [173.],\n",
       "       [154.],\n",
       "       [154.],\n",
       "       [ 35.],\n",
       "       [174.],\n",
       "       [ 36.],\n",
       "       [ 34.],\n",
       "       [ 96.],\n",
       "       [ 25.],\n",
       "       [ 82.],\n",
       "       [ 44.],\n",
       "       [162.],\n",
       "       [ 73.],\n",
       "       [163.],\n",
       "       [180.],\n",
       "       [ 97.],\n",
       "       [157.],\n",
       "       [169.],\n",
       "       [183.],\n",
       "       [181.],\n",
       "       [ 35.],\n",
       "       [196.],\n",
       "       [ 44.],\n",
       "       [ 97.],\n",
       "       [158.],\n",
       "       [176.],\n",
       "       [ 98.],\n",
       "       [ 98.],\n",
       "       [ 25.],\n",
       "       [ 36.],\n",
       "       [148.],\n",
       "       [196.],\n",
       "       [112.],\n",
       "       [204.],\n",
       "       [ 96.],\n",
       "       [ 48.],\n",
       "       [151.],\n",
       "       [ 96.],\n",
       "       [174.],\n",
       "       [154.],\n",
       "       [ 24.],\n",
       "       [157.],\n",
       "       [ 87.],\n",
       "       [117.],\n",
       "       [ 34.],\n",
       "       [155.],\n",
       "       [196.],\n",
       "       [ 34.],\n",
       "       [216.],\n",
       "       [178.],\n",
       "       [162.],\n",
       "       [200.],\n",
       "       [ 34.],\n",
       "       [153.],\n",
       "       [ 46.],\n",
       "       [ 98.],\n",
       "       [ 41.],\n",
       "       [199.],\n",
       "       [158.],\n",
       "       [ 35.],\n",
       "       [155.],\n",
       "       [ 36.],\n",
       "       [137.],\n",
       "       [155.],\n",
       "       [ 37.],\n",
       "       [183.],\n",
       "       [193.],\n",
       "       [100.],\n",
       "       [ 26.],\n",
       "       [177.],\n",
       "       [155.],\n",
       "       [135.],\n",
       "       [ 44.],\n",
       "       [170.],\n",
       "       [172.],\n",
       "       [ 34.],\n",
       "       [ 88.],\n",
       "       [172.],\n",
       "       [ 41.],\n",
       "       [175.],\n",
       "       [191.],\n",
       "       [206.],\n",
       "       [ 44.],\n",
       "       [168.],\n",
       "       [ 27.],\n",
       "       [ 37.],\n",
       "       [218.],\n",
       "       [162.],\n",
       "       [ 27.],\n",
       "       [ 31.],\n",
       "       [ 24.],\n",
       "       [ 36.],\n",
       "       [ 39.],\n",
       "       [205.],\n",
       "       [153.],\n",
       "       [105.],\n",
       "       [231.],\n",
       "       [ 35.],\n",
       "       [119.],\n",
       "       [ 37.],\n",
       "       [161.],\n",
       "       [ 43.],\n",
       "       [ 44.],\n",
       "       [210.],\n",
       "       [ 40.],\n",
       "       [171.],\n",
       "       [ 36.],\n",
       "       [ 39.],\n",
       "       [167.],\n",
       "       [161.],\n",
       "       [191.],\n",
       "       [ 34.],\n",
       "       [165.],\n",
       "       [170.],\n",
       "       [ 25.],\n",
       "       [ 36.],\n",
       "       [ 34.],\n",
       "       [107.],\n",
       "       [ 44.],\n",
       "       [190.],\n",
       "       [ 33.],\n",
       "       [146.],\n",
       "       [191.],\n",
       "       [180.],\n",
       "       [ 98.],\n",
       "       [193.],\n",
       "       [183.],\n",
       "       [188.],\n",
       "       [160.],\n",
       "       [187.],\n",
       "       [180.],\n",
       "       [ 64.],\n",
       "       [ 36.],\n",
       "       [158.],\n",
       "       [ 33.],\n",
       "       [ 88.],\n",
       "       [207.],\n",
       "       [176.],\n",
       "       [194.],\n",
       "       [ 35.],\n",
       "       [ 36.],\n",
       "       [156.],\n",
       "       [164.],\n",
       "       [178.],\n",
       "       [ 34.],\n",
       "       [160.],\n",
       "       [162.],\n",
       "       [185.],\n",
       "       [ 52.],\n",
       "       [ 25.],\n",
       "       [ 26.],\n",
       "       [ 34.],\n",
       "       [127.],\n",
       "       [ 44.],\n",
       "       [202.],\n",
       "       [ 34.],\n",
       "       [213.],\n",
       "       [156.],\n",
       "       [ 38.],\n",
       "       [169.],\n",
       "       [101.],\n",
       "       [170.],\n",
       "       [ 25.],\n",
       "       [170.],\n",
       "       [170.],\n",
       "       [218.],\n",
       "       [172.],\n",
       "       [175.],\n",
       "       [ 35.],\n",
       "       [185.],\n",
       "       [173.],\n",
       "       [ 36.],\n",
       "       [205.],\n",
       "       [212.],\n",
       "       [178.],\n",
       "       [ 93.],\n",
       "       [204.],\n",
       "       [209.],\n",
       "       [185.],\n",
       "       [171.],\n",
       "       [171.],\n",
       "       [186.],\n",
       "       [159.],\n",
       "       [173.],\n",
       "       [177.],\n",
       "       [163.],\n",
       "       [ 44.],\n",
       "       [165.],\n",
       "       [ 31.],\n",
       "       [185.],\n",
       "       [ 39.],\n",
       "       [ 33.],\n",
       "       [181.],\n",
       "       [209.],\n",
       "       [162.],\n",
       "       [ 80.],\n",
       "       [171.],\n",
       "       [ 34.],\n",
       "       [ 34.],\n",
       "       [173.],\n",
       "       [204.],\n",
       "       [140.],\n",
       "       [158.],\n",
       "       [167.],\n",
       "       [184.],\n",
       "       [120.],\n",
       "       [164.],\n",
       "       [ 95.],\n",
       "       [160.],\n",
       "       [207.],\n",
       "       [150.],\n",
       "       [ 96.],\n",
       "       [153.],\n",
       "       [ 93.],\n",
       "       [115.],\n",
       "       [152.],\n",
       "       [143.],\n",
       "       [170.],\n",
       "       [ 28.],\n",
       "       [ 37.],\n",
       "       [ 94.],\n",
       "       [182.],\n",
       "       [150.],\n",
       "       [169.],\n",
       "       [195.],\n",
       "       [194.],\n",
       "       [ 34.],\n",
       "       [170.],\n",
       "       [218.],\n",
       "       [172.],\n",
       "       [164.],\n",
       "       [181.],\n",
       "       [ 36.],\n",
       "       [157.],\n",
       "       [200.],\n",
       "       [184.],\n",
       "       [ 94.],\n",
       "       [180.],\n",
       "       [190.],\n",
       "       [172.],\n",
       "       [143.],\n",
       "       [ 36.],\n",
       "       [ 86.],\n",
       "       [204.],\n",
       "       [ 60.],\n",
       "       [166.],\n",
       "       [198.],\n",
       "       [183.],\n",
       "       [ 33.],\n",
       "       [167.],\n",
       "       [ 28.],\n",
       "       [165.],\n",
       "       [104.],\n",
       "       [167.],\n",
       "       [ 71.],\n",
       "       [ 36.],\n",
       "       [183.],\n",
       "       [219.],\n",
       "       [157.],\n",
       "       [102.],\n",
       "       [200.],\n",
       "       [175.],\n",
       "       [ 85.],\n",
       "       [ 97.],\n",
       "       [210.],\n",
       "       [114.],\n",
       "       [173.],\n",
       "       [159.],\n",
       "       [190.],\n",
       "       [198.],\n",
       "       [108.],\n",
       "       [ 38.],\n",
       "       [ 36.],\n",
       "       [ 96.],\n",
       "       [ 37.],\n",
       "       [173.],\n",
       "       [ 34.],\n",
       "       [ 50.],\n",
       "       [210.],\n",
       "       [ 79.],\n",
       "       [204.],\n",
       "       [156.],\n",
       "       [161.],\n",
       "       [ 37.],\n",
       "       [ 42.],\n",
       "       [178.],\n",
       "       [163.],\n",
       "       [112.],\n",
       "       [175.],\n",
       "       [158.],\n",
       "       [190.],\n",
       "       [175.],\n",
       "       [169.],\n",
       "       [153.],\n",
       "       [175.],\n",
       "       [162.],\n",
       "       [145.],\n",
       "       [171.],\n",
       "       [167.],\n",
       "       [191.],\n",
       "       [194.],\n",
       "       [189.],\n",
       "       [189.],\n",
       "       [165.],\n",
       "       [136.],\n",
       "       [ 33.],\n",
       "       [ 33.],\n",
       "       [ 35.],\n",
       "       [ 98.],\n",
       "       [182.],\n",
       "       [155.],\n",
       "       [ 44.],\n",
       "       [165.],\n",
       "       [162.],\n",
       "       [202.],\n",
       "       [161.],\n",
       "       [179.],\n",
       "       [ 35.],\n",
       "       [ 92.],\n",
       "       [200.],\n",
       "       [ 98.],\n",
       "       [ 95.],\n",
       "       [165.],\n",
       "       [170.],\n",
       "       [200.],\n",
       "       [ 25.],\n",
       "       [159.],\n",
       "       [160.],\n",
       "       [156.],\n",
       "       [220.],\n",
       "       [117.],\n",
       "       [162.],\n",
       "       [ 36.],\n",
       "       [155.],\n",
       "       [ 45.],\n",
       "       [214.],\n",
       "       [176.],\n",
       "       [154.],\n",
       "       [164.],\n",
       "       [174.],\n",
       "       [166.],\n",
       "       [165.],\n",
       "       [ 96.],\n",
       "       [ 36.],\n",
       "       [ 34.],\n",
       "       [ 33.],\n",
       "       [ 57.],\n",
       "       [166.],\n",
       "       [198.],\n",
       "       [176.],\n",
       "       [ 34.],\n",
       "       [175.],\n",
       "       [115.],\n",
       "       [126.],\n",
       "       [ 40.],\n",
       "       [165.],\n",
       "       [168.],\n",
       "       [ 41.],\n",
       "       [162.],\n",
       "       [ 69.],\n",
       "       [ 25.],\n",
       "       [167.],\n",
       "       [155.],\n",
       "       [ 45.],\n",
       "       [ 44.],\n",
       "       [ 35.],\n",
       "       [151.],\n",
       "       [173.],\n",
       "       [ 35.],\n",
       "       [ 50.],\n",
       "       [ 41.],\n",
       "       [171.],\n",
       "       [ 45.],\n",
       "       [165.],\n",
       "       [ 34.],\n",
       "       [141.],\n",
       "       [210.],\n",
       "       [172.],\n",
       "       [205.],\n",
       "       [ 25.],\n",
       "       [ 44.],\n",
       "       [ 26.],\n",
       "       [181.]])"
      ]
     },
     "execution_count": 253,
     "metadata": {},
     "output_type": "execute_result"
    }
   ],
   "source": [
    "train"
   ]
  },
  {
   "cell_type": "code",
   "execution_count": 254,
   "metadata": {},
   "outputs": [],
   "source": [
    "import sklearn\n",
    "from sklearn.preprocessing import MinMaxScaler\n",
    "scaler = MinMaxScaler(feature_range = (0,1))\n",
    "train_scaled = scaler.fit_transform(train)"
   ]
  },
  {
   "cell_type": "code",
   "execution_count": 255,
   "metadata": {},
   "outputs": [],
   "source": [
    "x_train, y_train = [], []\n",
    "time_step = 40\n",
    "for i in range(time_step, train_scaled.shape[0]):\n",
    "  x_train.append(train_scaled[i-time_step : i , 0])\n",
    "  y_train.append(train_scaled[i, 0])\n",
    "x_train, y_train = np.array(x_train), np.array(y_train)"
   ]
  },
  {
   "cell_type": "code",
   "execution_count": 256,
   "metadata": {},
   "outputs": [
    {
     "data": {
      "text/plain": [
       "(396, 40)"
      ]
     },
     "execution_count": 256,
     "metadata": {},
     "output_type": "execute_result"
    }
   ],
   "source": [
    "x_train.shape"
   ]
  },
  {
   "cell_type": "code",
   "execution_count": 257,
   "metadata": {},
   "outputs": [],
   "source": [
    "x_train = np.reshape(x_train, (x_train.shape[0], x_train.shape[1], 1 ))"
   ]
  },
  {
   "cell_type": "code",
   "execution_count": 258,
   "metadata": {},
   "outputs": [],
   "source": [
    "import tensorflow as tf\n",
    "model = tf.keras.Sequential()\n",
    "model.add(tf.keras.layers.LSTM(units = 50, return_sequences = True, input_shape = (x_train.shape[1], 1)))\n",
    "model.add(tf.keras.layers.Dropout(0.2))\n",
    "model.add(tf.keras.layers.LSTM(units = 50, return_sequences = True))\n",
    "model.add(tf.keras.layers.Dropout(0.2))\n",
    "model.add(tf.keras.layers.LSTM(units = 50, return_sequences = True))\n",
    "model.add(tf.keras.layers.Dropout(0.2))\n",
    "model.add(tf.keras.layers.LSTM(units = 50, return_sequences = False))\n",
    "model.add(tf.keras.layers.Dropout(0.2))\n",
    "model.add(tf.keras.layers.Dense(units = 1))"
   ]
  },
  {
   "cell_type": "code",
   "execution_count": 259,
   "metadata": {},
   "outputs": [
    {
     "name": "stderr",
     "output_type": "stream",
     "text": [
      "C:\\Users\\Biwas Kerung\\AppData\\Local\\Programs\\Python\\Python39\\lib\\site-packages\\keras\\optimizer_v2\\adam.py:105: UserWarning: The `lr` argument is deprecated, use `learning_rate` instead.\n",
      "  super(Adam, self).__init__(name, **kwargs)\n"
     ]
    }
   ],
   "source": [
    "model.compile(tf.keras.optimizers.Adam(lr = 0.001), loss = \"mean_squared_error\")"
   ]
  },
  {
   "cell_type": "code",
   "execution_count": 260,
   "metadata": {},
   "outputs": [
    {
     "name": "stdout",
     "output_type": "stream",
     "text": [
      "Model: \"sequential_1\"\n",
      "_________________________________________________________________\n",
      " Layer (type)                Output Shape              Param #   \n",
      "=================================================================\n",
      " lstm_4 (LSTM)               (None, 40, 50)            10400     \n",
      "                                                                 \n",
      " dropout_4 (Dropout)         (None, 40, 50)            0         \n",
      "                                                                 \n",
      " lstm_5 (LSTM)               (None, 40, 50)            20200     \n",
      "                                                                 \n",
      " dropout_5 (Dropout)         (None, 40, 50)            0         \n",
      "                                                                 \n",
      " lstm_6 (LSTM)               (None, 40, 50)            20200     \n",
      "                                                                 \n",
      " dropout_6 (Dropout)         (None, 40, 50)            0         \n",
      "                                                                 \n",
      " lstm_7 (LSTM)               (None, 50)                20200     \n",
      "                                                                 \n",
      " dropout_7 (Dropout)         (None, 50)                0         \n",
      "                                                                 \n",
      " dense_1 (Dense)             (None, 1)                 51        \n",
      "                                                                 \n",
      "=================================================================\n",
      "Total params: 71,051\n",
      "Trainable params: 71,051\n",
      "Non-trainable params: 0\n",
      "_________________________________________________________________\n"
     ]
    }
   ],
   "source": [
    "model.summary()"
   ]
  },
  {
   "cell_type": "code",
   "execution_count": 261,
   "metadata": {},
   "outputs": [
    {
     "name": "stdout",
     "output_type": "stream",
     "text": [
      "Epoch 1/100\n",
      "25/25 [==============================] - 18s 91ms/step - loss: 0.1216\n",
      "Epoch 2/100\n",
      "25/25 [==============================] - 2s 92ms/step - loss: 0.1023\n",
      "Epoch 3/100\n",
      "25/25 [==============================] - 2s 79ms/step - loss: 0.1008\n",
      "Epoch 4/100\n",
      "25/25 [==============================] - 2s 91ms/step - loss: 0.1063\n",
      "Epoch 5/100\n",
      "25/25 [==============================] - 2s 85ms/step - loss: 0.1013\n",
      "Epoch 6/100\n",
      "25/25 [==============================] - 2s 90ms/step - loss: 0.0982\n",
      "Epoch 7/100\n",
      "25/25 [==============================] - 2s 95ms/step - loss: 0.1013\n",
      "Epoch 8/100\n",
      "25/25 [==============================] - 2s 95ms/step - loss: 0.1046\n",
      "Epoch 9/100\n",
      "25/25 [==============================] - 2s 96ms/step - loss: 0.0972\n",
      "Epoch 10/100\n",
      "25/25 [==============================] - 2s 96ms/step - loss: 0.0993\n",
      "Epoch 11/100\n",
      "25/25 [==============================] - 2s 95ms/step - loss: 0.1006\n",
      "Epoch 12/100\n",
      "25/25 [==============================] - 2s 95ms/step - loss: 0.0973\n",
      "Epoch 13/100\n",
      "25/25 [==============================] - 2s 96ms/step - loss: 0.0998\n",
      "Epoch 14/100\n",
      "25/25 [==============================] - 2s 96ms/step - loss: 0.1012\n",
      "Epoch 15/100\n",
      "25/25 [==============================] - 2s 95ms/step - loss: 0.1006\n",
      "Epoch 16/100\n",
      "25/25 [==============================] - 2s 96ms/step - loss: 0.1034\n",
      "Epoch 17/100\n",
      "25/25 [==============================] - 2s 95ms/step - loss: 0.1010\n",
      "Epoch 18/100\n",
      "25/25 [==============================] - 2s 97ms/step - loss: 0.0974\n",
      "Epoch 19/100\n",
      "25/25 [==============================] - 2s 96ms/step - loss: 0.0976\n",
      "Epoch 20/100\n",
      "25/25 [==============================] - 2s 96ms/step - loss: 0.0982\n",
      "Epoch 21/100\n",
      "25/25 [==============================] - 2s 91ms/step - loss: 0.0982: 0s - loss: 0.09\n",
      "Epoch 22/100\n",
      "25/25 [==============================] - 2s 79ms/step - loss: 0.0976\n",
      "Epoch 23/100\n",
      "25/25 [==============================] - 2s 89ms/step - loss: 0.0960\n",
      "Epoch 24/100\n",
      "25/25 [==============================] - 2s 97ms/step - loss: 0.0957\n",
      "Epoch 25/100\n",
      "25/25 [==============================] - 2s 78ms/step - loss: 0.0966\n",
      "Epoch 26/100\n",
      "25/25 [==============================] - 2s 93ms/step - loss: 0.0960\n",
      "Epoch 27/100\n",
      "25/25 [==============================] - 2s 80ms/step - loss: 0.0983\n",
      "Epoch 28/100\n",
      "25/25 [==============================] - 2s 83ms/step - loss: 0.0980\n",
      "Epoch 29/100\n",
      "25/25 [==============================] - 2s 97ms/step - loss: 0.0954\n",
      "Epoch 30/100\n",
      "25/25 [==============================] - 2s 97ms/step - loss: 0.0960\n",
      "Epoch 31/100\n",
      "25/25 [==============================] - 2s 96ms/step - loss: 0.0960\n",
      "Epoch 32/100\n",
      "25/25 [==============================] - 2s 95ms/step - loss: 0.0982\n",
      "Epoch 33/100\n",
      "25/25 [==============================] - 2s 96ms/step - loss: 0.0937\n",
      "Epoch 34/100\n",
      "25/25 [==============================] - 2s 96ms/step - loss: 0.0948\n",
      "Epoch 35/100\n",
      "25/25 [==============================] - 2s 96ms/step - loss: 0.0972\n",
      "Epoch 36/100\n",
      "25/25 [==============================] - 2s 96ms/step - loss: 0.0976\n",
      "Epoch 37/100\n",
      "25/25 [==============================] - 2s 96ms/step - loss: 0.0988\n",
      "Epoch 38/100\n",
      "25/25 [==============================] - 2s 95ms/step - loss: 0.0959: 1 - ETA: 0s - loss: 0.09\n",
      "Epoch 39/100\n",
      "25/25 [==============================] - 2s 92ms/step - loss: 0.0964\n",
      "Epoch 40/100\n",
      "25/25 [==============================] - 2s 62ms/step - loss: 0.0964\n",
      "Epoch 41/100\n",
      "25/25 [==============================] - 2s 95ms/step - loss: 0.0962\n",
      "Epoch 42/100\n",
      "25/25 [==============================] - 2s 97ms/step - loss: 0.0995\n",
      "Epoch 43/100\n",
      "25/25 [==============================] - 2s 96ms/step - loss: 0.0967: 0s - loss: 0.09\n",
      "Epoch 44/100\n",
      "25/25 [==============================] - 2s 96ms/step - loss: 0.0966\n",
      "Epoch 45/100\n",
      "25/25 [==============================] - 2s 96ms/step - loss: 0.0964\n",
      "Epoch 46/100\n",
      "25/25 [==============================] - 2s 71ms/step - loss: 0.0958\n",
      "Epoch 47/100\n",
      "25/25 [==============================] - 3s 105ms/step - loss: 0.0989\n",
      "Epoch 48/100\n",
      "25/25 [==============================] - 3s 104ms/step - loss: 0.0951\n",
      "Epoch 49/100\n",
      "25/25 [==============================] - 3s 104ms/step - loss: 0.0971\n",
      "Epoch 50/100\n",
      "25/25 [==============================] - 2s 95ms/step - loss: 0.0965\n",
      "Epoch 51/100\n",
      "25/25 [==============================] - 2s 92ms/step - loss: 0.0951\n",
      "Epoch 52/100\n",
      "25/25 [==============================] - 2s 96ms/step - loss: 0.0977\n",
      "Epoch 53/100\n",
      "25/25 [==============================] - 2s 96ms/step - loss: 0.0956\n",
      "Epoch 54/100\n",
      "25/25 [==============================] - 2s 96ms/step - loss: 0.0963\n",
      "Epoch 55/100\n",
      "25/25 [==============================] - 2s 95ms/step - loss: 0.0969\n",
      "Epoch 56/100\n",
      "25/25 [==============================] - 2s 95ms/step - loss: 0.0943\n",
      "Epoch 57/100\n",
      "25/25 [==============================] - 2s 97ms/step - loss: 0.0975\n",
      "Epoch 58/100\n",
      "25/25 [==============================] - 2s 95ms/step - loss: 0.0944\n",
      "Epoch 59/100\n",
      "25/25 [==============================] - 2s 82ms/step - loss: 0.1001\n",
      "Epoch 60/100\n",
      "25/25 [==============================] - 2s 95ms/step - loss: 0.0976\n",
      "Epoch 61/100\n",
      "25/25 [==============================] - 2s 87ms/step - loss: 0.0966\n",
      "Epoch 62/100\n",
      "25/25 [==============================] - 3s 103ms/step - loss: 0.0962\n",
      "Epoch 63/100\n",
      "25/25 [==============================] - 2s 92ms/step - loss: 0.0965\n",
      "Epoch 64/100\n",
      "25/25 [==============================] - 2s 85ms/step - loss: 0.0961\n",
      "Epoch 65/100\n",
      "25/25 [==============================] - 3s 104ms/step - loss: 0.0956\n",
      "Epoch 66/100\n",
      "25/25 [==============================] - 3s 104ms/step - loss: 0.0958\n",
      "Epoch 67/100\n",
      "25/25 [==============================] - 3s 104ms/step - loss: 0.0965\n",
      "Epoch 68/100\n",
      "25/25 [==============================] - 3s 105ms/step - loss: 0.0955\n",
      "Epoch 69/100\n",
      "25/25 [==============================] - 3s 105ms/step - loss: 0.0964\n",
      "Epoch 70/100\n",
      "25/25 [==============================] - 3s 104ms/step - loss: 0.0954\n",
      "Epoch 71/100\n",
      "25/25 [==============================] - 2s 85ms/step - loss: 0.0947\n",
      "Epoch 72/100\n",
      "25/25 [==============================] - 2s 90ms/step - loss: 0.0952\n",
      "Epoch 73/100\n",
      "25/25 [==============================] - 3s 105ms/step - loss: 0.0963\n",
      "Epoch 74/100\n",
      "25/25 [==============================] - 2s 67ms/step - loss: 0.0951\n",
      "Epoch 75/100\n",
      "25/25 [==============================] - 2s 97ms/step - loss: 0.0955\n",
      "Epoch 76/100\n",
      "25/25 [==============================] - 2s 86ms/step - loss: 0.0960\n",
      "Epoch 77/100\n",
      "25/25 [==============================] - 2s 87ms/step - loss: 0.0971\n",
      "Epoch 78/100\n",
      "25/25 [==============================] - 3s 106ms/step - loss: 0.0960\n",
      "Epoch 79/100\n",
      "25/25 [==============================] - 3s 104ms/step - loss: 0.0957\n",
      "Epoch 80/100\n",
      "25/25 [==============================] - 3s 104ms/step - loss: 0.0955\n",
      "Epoch 81/100\n",
      "25/25 [==============================] - 3s 104ms/step - loss: 0.0955\n",
      "Epoch 82/100\n",
      "25/25 [==============================] - 3s 105ms/step - loss: 0.0972\n",
      "Epoch 83/100\n",
      "25/25 [==============================] - 3s 103ms/step - loss: 0.0959\n",
      "Epoch 84/100\n",
      "25/25 [==============================] - 3s 103ms/step - loss: 0.0959\n",
      "Epoch 85/100\n",
      "25/25 [==============================] - 3s 103ms/step - loss: 0.0958\n",
      "Epoch 86/100\n",
      "25/25 [==============================] - 2s 84ms/step - loss: 0.0962\n",
      "Epoch 87/100\n",
      "25/25 [==============================] - 2s 97ms/step - loss: 0.0963\n",
      "Epoch 88/100\n",
      "25/25 [==============================] - 3s 104ms/step - loss: 0.0961\n",
      "Epoch 89/100\n",
      "25/25 [==============================] - 3s 105ms/step - loss: 0.0954\n",
      "Epoch 90/100\n",
      "25/25 [==============================] - 3s 105ms/step - loss: 0.0942\n",
      "Epoch 91/100\n",
      "25/25 [==============================] - 3s 105ms/step - loss: 0.0960\n",
      "Epoch 92/100\n",
      "25/25 [==============================] - 3s 104ms/step - loss: 0.0958\n",
      "Epoch 93/100\n",
      "25/25 [==============================] - 3s 103ms/step - loss: 0.0955\n",
      "Epoch 94/100\n",
      "25/25 [==============================] - 2s 83ms/step - loss: 0.0959\n",
      "Epoch 95/100\n",
      "25/25 [==============================] - 2s 82ms/step - loss: 0.0961\n",
      "Epoch 96/100\n",
      "25/25 [==============================] - 2s 90ms/step - loss: 0.0957\n",
      "Epoch 97/100\n",
      "25/25 [==============================] - 2s 88ms/step - loss: 0.0974\n",
      "Epoch 98/100\n",
      "25/25 [==============================] - 3s 105ms/step - loss: 0.0960\n",
      "Epoch 99/100\n",
      "25/25 [==============================] - 3s 104ms/step - loss: 0.0954\n",
      "Epoch 100/100\n",
      "25/25 [==============================] - 3s 104ms/step - loss: 0.0982\n"
     ]
    }
   ],
   "source": [
    "with tf.device(\"/device:GPU:0\"):\n",
    "  history = model.fit(x_train, y_train, epochs = 100, batch_size = 16)"
   ]
  },
  {
   "cell_type": "code",
   "execution_count": 262,
   "metadata": {},
   "outputs": [
    {
     "data": {
      "image/png": "[encoded data removed]",
      "text/plain": [
       "<Figure size 864x576 with 1 Axes>"
      ]
     },
     "metadata": {
      "needs_background": "light"
     },
     "output_type": "display_data"
    }
   ],
   "source": [
    "plt.figure(figsize = (12, 8))\n",
    "plt.plot(history.history[\"loss\"], label = \"Training loss\")\n",
    "plt.title(\"Loss analysis\")\n",
    "plt.xlabel(\"Epoch\")\n",
    "plt.ylabel(\"Loss\")\n",
    "plt.legend([\"Train\"])\n",
    "plt.grid(\"both\") "
   ]
  },
  {
   "cell_type": "code",
   "execution_count": 263,
   "metadata": {},
   "outputs": [],
   "source": [
    "model_json = model.to_json()\n",
    "with open(\"arun_model_01.json\", \"w\") as json_file:\n",
    "  json_file.write(model_json)\n",
    "\n",
    "model.save_weights(\"arun_model_01.h5\")"
   ]
  },
  {
   "cell_type": "markdown",
   "metadata": {},
   "source": [
    "**Test**"
   ]
  },
  {
   "cell_type": "code",
   "execution_count": 264,
   "metadata": {},
   "outputs": [
    {
     "data": {
      "text/plain": [
       "(22, 6)"
      ]
     },
     "execution_count": 264,
     "metadata": {},
     "output_type": "execute_result"
    }
   ],
   "source": [
    "test.shape"
   ]
  },
  {
   "cell_type": "code",
   "execution_count": 265,
   "metadata": {},
   "outputs": [
    {
     "data": {
      "text/plain": [
       "<matplotlib.legend.Legend at 0x269c85ffbb0>"
      ]
     },
     "execution_count": 265,
     "metadata": {},
     "output_type": "execute_result"
    },
    {
     "data": {
      "image/png": "[encoded data removed]",
      "text/plain": [
       "<Figure size 864x576 with 1 Axes>"
      ]
     },
     "metadata": {
      "needs_background": "light"
     },
     "output_type": "display_data"
    }
   ],
   "source": [
    "plt.figure(figsize = (12, 8))\n",
    "plt.subplot(1,1,1)\n",
    "plt.plot(test.Open.values, color = \"red\", label = \"Open Stock Price\")\n",
    "plt.grid(\"both\")\n",
    "plt.title(\"Real Amazon Prices for the next 96 days\")\n",
    "plt.legend()"
   ]
  },
  {
   "cell_type": "code",
   "execution_count": 266,
   "metadata": {},
   "outputs": [
    {
     "name": "stderr",
     "output_type": "stream",
     "text": [
      "C:\\Users\\Biwas Kerung\\AppData\\Local\\Programs\\Python\\Python39\\lib\\site-packages\\pandas\\core\\frame.py:4308: SettingWithCopyWarning: \n",
      "A value is trying to be set on a copy of a slice from a DataFrame\n",
      "\n",
      "See the caveats in the documentation: https://pandas.pydata.org/pandas-docs/stable/user_guide/indexing.html#returning-a-view-versus-a-copy\n",
      "  return super().drop(\n"
     ]
    }
   ],
   "source": [
    "test.drop([\"Vol\",\"Date\",  \"High\", \"Low\", \"Close\"], axis = 1, inplace = True)\n",
    "train_pure.drop([\"Vol\",\"Date\", \"High\", \"Low\", \"Close\"], axis = 1, inplace = True)"
   ]
  },
  {
   "cell_type": "code",
   "execution_count": 268,
   "metadata": {},
   "outputs": [
    {
     "data": {
      "text/html": [
       "<div>\n",
       "<style scoped>\n",
       "    .dataframe tbody tr th:only-of-type {\n",
       "        vertical-align: middle;\n",
       "    }\n",
       "\n",
       "    .dataframe tbody tr th {\n",
       "        vertical-align: top;\n",
       "    }\n",
       "\n",
       "    .dataframe thead th {\n",
       "        text-align: right;\n",
       "    }\n",
       "</style>\n",
       "<table border=\"1\" class=\"dataframe\">\n",
       "  <thead>\n",
       "    <tr style=\"text-align: right;\">\n",
       "      <th></th>\n",
       "      <th>Open</th>\n",
       "    </tr>\n",
       "  </thead>\n",
       "  <tbody>\n",
       "    <tr>\n",
       "      <th>45</th>\n",
       "      <td>36.0</td>\n",
       "    </tr>\n",
       "    <tr>\n",
       "      <th>233</th>\n",
       "      <td>167.0</td>\n",
       "    </tr>\n",
       "    <tr>\n",
       "      <th>447</th>\n",
       "      <td>144.0</td>\n",
       "    </tr>\n",
       "    <tr>\n",
       "      <th>159</th>\n",
       "      <td>87.0</td>\n",
       "    </tr>\n",
       "    <tr>\n",
       "      <th>313</th>\n",
       "      <td>197.0</td>\n",
       "    </tr>\n",
       "  </tbody>\n",
       "</table>\n",
       "</div>"
      ],
      "text/plain": [
       "      Open\n",
       "45    36.0\n",
       "233  167.0\n",
       "447  144.0\n",
       "159   87.0\n",
       "313  197.0"
      ]
     },
     "execution_count": 268,
     "metadata": {},
     "output_type": "execute_result"
    }
   ],
   "source": [
    "train_pure.head()"
   ]
  },
  {
   "cell_type": "code",
   "execution_count": 269,
   "metadata": {},
   "outputs": [],
   "source": [
    "real_prices = test.values"
   ]
  },
  {
   "cell_type": "code",
   "execution_count": 272,
   "metadata": {},
   "outputs": [],
   "source": [
    "dataset_total = pd.concat((train_pure[\"Open\"], test[\"Open\"]), axis = 0)"
   ]
  },
  {
   "cell_type": "code",
   "execution_count": 273,
   "metadata": {},
   "outputs": [],
   "source": [
    "inputs = dataset_total[len(dataset_total) - len(test) - time_step : ].values"
   ]
  },
  {
   "cell_type": "code",
   "execution_count": 274,
   "metadata": {},
   "outputs": [],
   "source": [
    "inputs = inputs.reshape(-1, 1)"
   ]
  },
  {
   "cell_type": "code",
   "execution_count": 275,
   "metadata": {},
   "outputs": [],
   "source": [
    "inputs = scaler.fit_transform(inputs)"
   ]
  },
  {
   "cell_type": "code",
   "execution_count": 276,
   "metadata": {},
   "outputs": [
    {
     "data": {
      "text/plain": [
       "(62, 1)"
      ]
     },
     "execution_count": 276,
     "metadata": {},
     "output_type": "execute_result"
    }
   ],
   "source": [
    "inputs.shape"
   ]
  },
  {
   "cell_type": "code",
   "execution_count": 277,
   "metadata": {},
   "outputs": [],
   "source": [
    "x_test = []\n",
    "for i in range(time_step, inputs.shape[0]):\n",
    "  x_test.append(inputs[i - time_step : i , 0])\n",
    "x_test = np.array(x_test)"
   ]
  },
  {
   "cell_type": "code",
   "execution_count": 278,
   "metadata": {},
   "outputs": [
    {
     "data": {
      "text/plain": [
       "(22, 40)"
      ]
     },
     "execution_count": 278,
     "metadata": {},
     "output_type": "execute_result"
    }
   ],
   "source": [
    "x_test.shape"
   ]
  },
  {
   "cell_type": "code",
   "execution_count": 279,
   "metadata": {},
   "outputs": [],
   "source": [
    "x_test = np.reshape(x_test, (x_test.shape[0], x_test.shape[1], 1))"
   ]
  },
  {
   "cell_type": "code",
   "execution_count": 280,
   "metadata": {},
   "outputs": [],
   "source": [
    "predicted_prices = model.predict(x_test)"
   ]
  },
  {
   "cell_type": "code",
   "execution_count": 281,
   "metadata": {},
   "outputs": [],
   "source": [
    "predicted_prices = scaler.inverse_transform(predicted_prices)"
   ]
  },
  {
   "cell_type": "code",
   "execution_count": 282,
   "metadata": {},
   "outputs": [
    {
     "data": {
      "image/png": "[encoded data removed]",
      "text/plain": [
       "<Figure size 864x576 with 1 Axes>"
      ]
     },
     "metadata": {
      "needs_background": "light"
     },
     "output_type": "display_data"
    }
   ],
   "source": [
    "plt.figure(figsize= (12, 8))\n",
    "plt.subplot(1,1,1)\n",
    "plt.plot(real_prices, color = \"red\", label = \"Real Arun prices\")\n",
    "plt.plot(predicted_prices, color = \"blue\", label = \"Predicted Arun prices\")\n",
    "plt.title(\"Arun Open Stock Prices\")\n",
    "plt.xlabel(\"Time\")\n",
    "plt.ylabel(\"Stock Price\")\n",
    "plt.legend()\n",
    "plt.grid(\"both\")\n",
    "plt.show()"
   ]
  },
  {
   "cell_type": "code",
   "execution_count": null,
   "metadata": {},
   "outputs": [],
   "source": []
  },
  {
   "cell_type": "code",
   "execution_count": null,
   "metadata": {},
   "outputs": [],
   "source": []
  },
  {
   "cell_type": "code",
   "execution_count": null,
   "metadata": {},
   "outputs": [],
   "source": []
  },
  {
   "cell_type": "code",
   "execution_count": null,
   "metadata": {},
   "outputs": [],
   "source": []
  },
  {
   "cell_type": "code",
   "execution_count": null,
   "metadata": {},
   "outputs": [],
   "source": []
  },
  {
   "cell_type": "code",
   "execution_count": null,
   "metadata": {},
   "outputs": [],
   "source": []
  }
 ],
 "metadata": {
  "interpreter": {
   "hash": "10b10d633095f136d4b967f11dc049a4cbe279295dde556d67ee66a8ca60a101"
  },
  "kernelspec": {
   "display_name": "Python 3.9.4 64-bit",
   "language": "python",
   "name": "python3"
  },
  "language_info": {
   "codemirror_mode": {
    "name": "ipython",
    "version": 3
   },
   "file_extension": ".py",
   "mimetype": "text/x-python",
   "name": "python",
   "nbconvert_exporter": "python",
   "pygments_lexer": "ipython3",
   "version": "3.9.4"
  },
  "orig_nbformat": 4
 },
 "nbformat": 4,
 "nbformat_minor": 2
}
